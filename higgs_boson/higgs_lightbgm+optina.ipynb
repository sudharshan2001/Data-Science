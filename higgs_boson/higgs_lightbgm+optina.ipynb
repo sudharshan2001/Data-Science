{
 "cells": [
  {
   "cell_type": "code",
   "execution_count": 1,
   "metadata": {
    "_cell_guid": "b1076dfc-b9ad-4769-8c92-a6c4dae69d19",
    "_uuid": "8f2839f25d086af736a60e9eeb907d3b93b6e0e5",
    "execution": {
     "iopub.execute_input": "2022-06-07T07:03:45.427204Z",
     "iopub.status.busy": "2022-06-07T07:03:45.426300Z",
     "iopub.status.idle": "2022-06-07T07:03:46.553471Z",
     "shell.execute_reply": "2022-06-07T07:03:46.552423Z",
     "shell.execute_reply.started": "2022-06-07T07:03:45.427075Z"
    }
   },
   "outputs": [],
   "source": [
    "import pandas as pd\n",
    "import numpy as np\n",
    "import matplotlib.pyplot as plt\n",
    "import seaborn as sns\n",
    "\n",
    "from sklearn.model_selection import , train_test_split\n",
    "from sklearn.preprocessing import LabelEncoder\n",
    "\n",
    "from lightgbm import LGBMClassifier\n",
    "\n",
    "import optuna\n",
    "from functools import partial\n",
    "from sklearn.metrics import log_loss\n",
    "\n",
    "import warnings\n",
    "warnings.filterwarnings('ignore')"
   ]
  },
  {
   "cell_type": "code",
   "execution_count": 3,
   "metadata": {
    "execution": {
     "iopub.execute_input": "2022-06-07T07:03:46.818428Z",
     "iopub.status.busy": "2022-06-07T07:03:46.818180Z",
     "iopub.status.idle": "2022-06-07T07:03:53.475232Z",
     "shell.execute_reply": "2022-06-07T07:03:53.474291Z",
     "shell.execute_reply.started": "2022-06-07T07:03:46.818390Z"
    }
   },
   "outputs": [],
   "source": [
    "train_df = pd.read_csv('training.zip')\n",
    "test_df = pd.read_csv('test.zip')"
   ]
  },
  {
   "cell_type": "code",
   "execution_count": 4,
   "metadata": {
    "execution": {
     "iopub.execute_input": "2022-06-07T07:03:53.478199Z",
     "iopub.status.busy": "2022-06-07T07:03:53.477156Z",
     "iopub.status.idle": "2022-06-07T07:03:53.702944Z",
     "shell.execute_reply": "2022-06-07T07:03:53.701904Z",
     "shell.execute_reply.started": "2022-06-07T07:03:53.478156Z"
    }
   },
   "outputs": [],
   "source": [
    "from sklearn.preprocessing import LabelEncoder,normalize,MinMaxScaler\n",
    "LE = LabelEncoder()\n",
    "\n",
    "train_df['Label'] = LE.fit_transform(train_df['Label'])\n",
    "train_df.head()"
   ]
  },
  {
   "cell_type": "code",
   "execution_count": 107,
   "metadata": {
    "execution": {
     "iopub.execute_input": "2022-06-07T10:19:50.251977Z",
     "iopub.status.busy": "2022-06-07T10:19:50.251256Z",
     "iopub.status.idle": "2022-06-07T10:19:50.277931Z",
     "shell.execute_reply": "2022-06-07T10:19:50.276833Z",
     "shell.execute_reply.started": "2022-06-07T10:19:50.251931Z"
    }
   },
   "outputs": [],
   "source": [
    "X_train = train_df.drop(['EventId', 'Weight','Label'], axis=1)\n",
    "y_train = train_df.Label"
   ]
  },
  {
   "cell_type": "code",
   "execution_count": 112,
   "metadata": {
    "execution": {
     "iopub.execute_input": "2022-06-07T10:22:53.604877Z",
     "iopub.status.busy": "2022-06-07T10:22:53.604581Z",
     "iopub.status.idle": "2022-06-07T10:22:53.614241Z",
     "shell.execute_reply": "2022-06-07T10:22:53.613330Z",
     "shell.execute_reply.started": "2022-06-07T10:22:53.604846Z"
    }
   },
   "outputs": [],
   "source": [
    "def objective(trial, X, y, name='higgs'):\n",
    "        \n",
    "    params = {'max_depth':trial.suggest_int('max_depth', 5, 50),\n",
    "              'n_estimators':200000,\n",
    "              'subsample': trial.suggest_uniform('subsample', 0.2, 1.0),\n",
    "              'colsample_bytree':trial.suggest_uniform('colsample_bytree', 0.2, 1.0),\n",
    "              'learning_rate':trial.suggest_uniform('learning_rate', 0.007, 0.02),\n",
    "              'reg_lambda':trial.suggest_uniform('reg_lambda', 0.01, 50),\n",
    "              'reg_alpha':trial.suggest_uniform('reg_alpha', 0.01, 50),\n",
    "              'min_child_samples':trial.suggest_int('min_child_samples', 5, 100),\n",
    "              'num_leaves':trial.suggest_int('num_leaves', 10, 200),\n",
    "              'n_jobs' : -1,\n",
    "              'metric':'binary_logloss',\n",
    "              'max_bin':trial.suggest_int('max_bin', 300, 1000),\n",
    "              'cat_smooth':trial.suggest_int('cat_smooth', 5, 100),\n",
    "              'cat_l2':trial.suggest_loguniform('cat_l2', 1e-3, 100)}\n",
    "\n",
    "    model = LGBMClassifier(objective=\"binary\", **params)\n",
    "                  \n",
    "    X_train, X_val, y_train, y_val = train_test_split(X, y, test_size=0.2, random_state=0)\n",
    "    \n",
    "\n",
    "    model.fit(X_train, y_train, eval_set=[(X_val, y_val)],\n",
    "              eval_metric=['binary_logloss'],\n",
    "              early_stopping_rounds=300, \n",
    "              #callbacks=[optuna.integration.LightGBMPruningCallback(trial, metric='rmse')],\n",
    "              verbose=1)\n",
    "\n",
    "                  \n",
    "    return log_loss(y_val,model.predict(X_val))"
   ]
  },
  {
   "cell_type": "code",
   "execution_count": 113,
   "metadata": {
    "collapsed": true,
    "execution": {
     "iopub.execute_input": "2022-06-07T10:22:54.739475Z",
     "iopub.status.busy": "2022-06-07T10:22:54.739183Z",
     "iopub.status.idle": "2022-06-07T10:57:01.951264Z",
     "shell.execute_reply": "2022-06-07T10:57:01.950319Z",
     "shell.execute_reply.started": "2022-06-07T10:22:54.739436Z"
    },
    "jupyter": {
     "outputs_hidden": true
    }
   },
   "outputs": [],
   "source": [
    "study = optuna.create_study(direction=\"minimize\", study_name=\"LGBM Classifier\")\n",
    "func = lambda trial: objective(trial,X=X_train, y=y_train)\n",
    "study.optimize(func, n_trials=20)"
   ]
  },
  {
   "cell_type": "code",
   "execution_count": 114,
   "metadata": {
    "execution": {
     "iopub.execute_input": "2022-06-07T10:57:01.952934Z",
     "iopub.status.busy": "2022-06-07T10:57:01.952715Z",
     "iopub.status.idle": "2022-06-07T10:57:01.960504Z",
     "shell.execute_reply": "2022-06-07T10:57:01.959386Z",
     "shell.execute_reply.started": "2022-06-07T10:57:01.952908Z"
    }
   },
   "outputs": [],
   "source": [
    "print(f\"\\tBest value (rmse): {study.best_value:.5f}\")\n",
    "print(f\"\\tBest params:\")\n",
    "\n",
    "for key, value in study.best_params.items():\n",
    "    print(f\"\\t\\t{key}: {value}\")"
   ]
  },
  {
   "cell_type": "code",
   "execution_count": 151,
   "metadata": {
    "execution": {
     "iopub.execute_input": "2022-06-07T11:33:29.213235Z",
     "iopub.status.busy": "2022-06-07T11:33:29.212812Z",
     "iopub.status.idle": "2022-06-07T11:33:29.219403Z",
     "shell.execute_reply": "2022-06-07T11:33:29.218534Z",
     "shell.execute_reply.started": "2022-06-07T11:33:29.213204Z"
    }
   },
   "outputs": [],
   "source": [
    "# This is taken from the printed values in previous cell \n",
    "lgbm_params = { 'max_depth': 9,\n",
    "    'subsample': 0.7730780498269871,\n",
    "    'colsample_bytree': 0.6387676696977731,\n",
    "    'learning_rate': 0.0123564377640701,\n",
    "    'reg_lambda': 46.29907650439835,\n",
    "    'reg_alpha': 16.959124157211022,\n",
    "    'min_child_samples': 7,\n",
    "    'num_leaves': 115,\n",
    "    'max_bin': 523,\n",
    "    'cat_smooth': 49,\n",
    "    'cat_l2': 30.182489403995866}"
   ]
  },
  {
   "cell_type": "code",
   "execution_count": 152,
   "metadata": {
    "execution": {
     "iopub.execute_input": "2022-06-07T11:33:32.540647Z",
     "iopub.status.busy": "2022-06-07T11:33:32.540133Z",
     "iopub.status.idle": "2022-06-07T11:33:32.615246Z",
     "shell.execute_reply": "2022-06-07T11:33:32.614585Z",
     "shell.execute_reply.started": "2022-06-07T11:33:32.540526Z"
    }
   },
   "outputs": [],
   "source": [
    "X_train, X_val, y_train, y_val = train_test_split(X_train, y_train, test_size=0.1, random_state=0)"
   ]
  },
  {
   "cell_type": "code",
   "execution_count": 153,
   "metadata": {
    "collapsed": true,
    "execution": {
     "iopub.execute_input": "2022-06-07T11:33:33.392490Z",
     "iopub.status.busy": "2022-06-07T11:33:33.391997Z",
     "iopub.status.idle": "2022-06-07T11:35:39.211723Z",
     "shell.execute_reply": "2022-06-07T11:35:39.210279Z",
     "shell.execute_reply.started": "2022-06-07T11:33:33.392443Z"
    },
    "jupyter": {
     "outputs_hidden": true
    }
   },
   "outputs": [],
   "source": [
    "model = LGBMClassifier(objective=\"binary\", **lgbm_params,n_estimators=10000)\n",
    "model.fit(X_train, y_train, eval_set=[(X_val, y_val)],eval_metric=['binary_logloss'],early_stopping_rounds=300, verbose=1)"
   ]
  },
  {
   "cell_type": "code",
   "execution_count": 1,
   "metadata": {
    "execution": {
     "iopub.status.busy": "2022-06-07T11:35:39.212849Z",
     "iopub.status.idle": "2022-06-07T11:35:39.213517Z",
     "shell.execute_reply": "2022-06-07T11:35:39.213302Z",
     "shell.execute_reply.started": "2022-06-07T11:35:39.213270Z"
    }
   },
   "outputs": [],
   "source": [
    "X_test = test_df.drop(['EventId'], axis=1)"
   ]
  },
  {
   "cell_type": "code",
   "execution_count": 2,
   "metadata": {
    "execution": {
     "iopub.status.busy": "2022-06-07T11:35:39.214561Z",
     "iopub.status.idle": "2022-06-07T11:35:39.215141Z",
     "shell.execute_reply": "2022-06-07T11:35:39.214994Z",
     "shell.execute_reply.started": "2022-06-07T11:35:39.214964Z"
    }
   },
   "outputs": [],
   "source": [
    "pred = model.predict(X_test)\n",
    "pred"
   ]
  },
  {
   "cell_type": "code",
   "execution_count": 6,
   "metadata": {
    "execution": {
     "iopub.status.busy": "2022-06-07T11:35:39.216060Z",
     "iopub.status.idle": "2022-06-07T11:35:39.216649Z",
     "shell.execute_reply": "2022-06-07T11:35:39.216438Z",
     "shell.execute_reply.started": "2022-06-07T11:35:39.216417Z"
    }
   },
   "outputs": [],
   "source": [
    "inv_y_test = LE.inverse_transform(pred)\n",
    "inv_y_test"
   ]
  },
  {
   "cell_type": "code",
   "execution_count": 7,
   "metadata": {
    "execution": {
     "iopub.status.busy": "2022-06-07T11:35:39.218049Z",
     "iopub.status.idle": "2022-06-07T11:35:39.218566Z",
     "shell.execute_reply": "2022-06-07T11:35:39.218414Z",
     "shell.execute_reply.started": "2022-06-07T11:35:39.218395Z"
    }
   },
   "outputs": [],
   "source": [
    "subm=pd.read_csv(\"random_submission.zip\")\n",
    "subm.head(2)"
   ]
  },
  {
   "cell_type": "code",
   "execution_count": 3,
   "metadata": {
    "execution": {
     "iopub.status.busy": "2022-06-07T11:35:39.219645Z",
     "iopub.status.idle": "2022-06-07T11:35:39.220190Z",
     "shell.execute_reply": "2022-06-07T11:35:39.220046Z",
     "shell.execute_reply.started": "2022-06-07T11:35:39.220020Z"
    }
   },
   "outputs": [],
   "source": [
    "subm.Class = inv_y_test"
   ]
  },
  {
   "cell_type": "code",
   "execution_count": 4,
   "metadata": {
    "execution": {
     "iopub.status.busy": "2022-06-07T11:35:39.221145Z",
     "iopub.status.idle": "2022-06-07T11:35:39.221699Z",
     "shell.execute_reply": "2022-06-07T11:35:39.221505Z",
     "shell.execute_reply.started": "2022-06-07T11:35:39.221487Z"
    }
   },
   "outputs": [],
   "source": [
    "subm['RankOrder'] = subm['Class'].argsort().argsort() + 1 "
   ]
  },
  {
   "cell_type": "code",
   "execution_count": 5,
   "metadata": {
    "execution": {
     "iopub.status.busy": "2022-06-07T11:35:39.223277Z",
     "iopub.status.idle": "2022-06-07T11:35:39.224338Z",
     "shell.execute_reply": "2022-06-07T11:35:39.224159Z",
     "shell.execute_reply.started": "2022-06-07T11:35:39.224125Z"
    }
   },
   "outputs": [],
   "source": [
    "subm.to_csv(\"higgssubm4.csv\",index=False)"
   ]
  },
  {
   "cell_type": "markdown",
   "metadata": {},
   "source": [
    "This is evaluated on AMS and got 2.9 in private and 2.8 in public"
   ]
  },
  {
   "attachments": {
    "image.png": {
     "image/png": "[encoded data removed]"
    }
   },
   "cell_type": "markdown",
   "metadata": {},
   "source": [
    "![image.png](attachment:image.png)"
   ]
  },
  {
   "cell_type": "code",
   "execution_count": null,
   "metadata": {},
   "outputs": [],
   "source": []
  }
 ],
 "metadata": {
  "kernelspec": {
   "display_name": "Python 3 (ipykernel)",
   "language": "python",
   "name": "python3"
  },
  "language_info": {
   "codemirror_mode": {
    "name": "ipython",
    "version": 3
   },
   "file_extension": ".py",
   "mimetype": "text/x-python",
   "name": "python",
   "nbconvert_exporter": "python",
   "pygments_lexer": "ipython3",
   "version": "3.9.7"
  }
 },
 "nbformat": 4,
 "nbformat_minor": 4
}
